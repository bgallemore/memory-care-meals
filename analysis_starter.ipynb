{
 "cells": [
  {
   "cell_type": "markdown",
   "id": "b9e33f12",
   "metadata": {},
   "source": [
    "# Meal Cost & Nutritional Analysis — Starter Notebook"
   ]
  },
  {
   "cell_type": "markdown",
   "id": "becadf6f",
   "metadata": {},
   "source": [
    "Loads the synthetic dataset, computes daily costs & nutrition, and draws basic plots."
   ]
  },
  {
   "cell_type": "code",
   "execution_count": null,
   "id": "c6f876f1",
   "metadata": {},
   "outputs": [],
   "source": [
    "\n",
    "import pandas as pd\n",
    "import numpy as np\n",
    "import matplotlib.pyplot as plt\n",
    "\n",
    "base_path = \"/mnt/data/memory_care_meals\"\n",
    "residents = pd.read_csv(f\"{base_path}/residents.csv\")\n",
    "ingredients = pd.read_csv(f\"{base_path}/ingredients.csv\")\n",
    "recipes = pd.read_csv(f\"{base_path}/recipes.csv\")\n",
    "recipe_ingredients = pd.read_csv(f\"{base_path}/recipe_ingredients.csv\")\n",
    "menu = pd.read_csv(f\"{base_path}/menu_calendar.csv\")\n",
    "standards = pd.read_csv(f\"{base_path}/nutrition_standards_daily.csv\")\n",
    "\n",
    "menu_detail = menu.merge(recipes, on=\"recipe_id\", how=\"left\")\n",
    "menu_detail[\"date\"] = pd.to_datetime(menu_detail[\"date\"])\n",
    "\n",
    "daily_nutrition = menu_detail.groupby(menu_detail[\"date\"].dt.date)[[\"calories_kcal\",\"protein_g\",\"carbs_g\",\"fat_g\",\"sodium_mg\",\"fiber_g\"]].sum().reset_index()\n",
    "daily_nutrition.rename(columns={\"date\":\"day\"}, inplace=True)\n",
    "\n",
    "N = len(residents)\n",
    "daily_cost = menu_detail.groupby(menu_detail[\"date\"].dt.date)[\"estimated_cost_per_serving_usd\"].sum().reset_index(name=\"cost_per_resident_day_usd\")\n",
    "daily_cost[\"cost_per_resident_day_usd\"] = daily_cost[\"cost_per_resident_day_usd\"].round(2)\n",
    "\n",
    "summary = daily_nutrition.merge(daily_cost, left_on=\"day\", right_on=\"date\", how=\"left\").drop(columns=[\"date\"])\n",
    "\n",
    "def within_range(val, metric):\n",
    "    row = standards[standards[\"metric\"]==metric].iloc[0]\n",
    "    return (val >= row[\"min\"]) and (val <= row[\"max\"])\n",
    "\n",
    "checks = pd.DataFrame({\n",
    "    \"day\": summary[\"day\"],\n",
    "    \"calories_ok\": summary[\"calories_kcal\"].apply(lambda x: within_range(x, \"calories_kcal\")),\n",
    "    \"protein_ok\": summary[\"protein_g\"].apply(lambda x: within_range(x, \"protein_g\")),\n",
    "    \"carbs_ok\": summary[\"carbs_g\"].apply(lambda x: within_range(x, \"carbs_g\")),\n",
    "    \"fat_ok\": summary[\"fat_g\"].apply(lambda x: within_range(x, \"fat_g\")),\n",
    "    \"sodium_ok\": summary[\"sodium_mg\"].apply(lambda x: within_range(x, \"sodium_mg\")),\n",
    "    \"fiber_ok\": summary[\"fiber_g\"].apply(lambda x: within_range(x, \"fiber_g\")),\n",
    "})\n",
    "\n",
    "summary_sorted = summary.sort_values(\"day\")\n",
    "\n",
    "plt.figure()\n",
    "plt.plot(summary_sorted[\"day\"], summary_sorted[\"cost_per_resident_day_usd\"])\n",
    "plt.title(\"Cost per Resident-Day (USD)\")\n",
    "plt.xlabel(\"Day\"); plt.ylabel(\"USD\"); plt.xticks(rotation=45)\n",
    "plt.tight_layout(); plt.show()\n",
    "\n",
    "plt.figure()\n",
    "plt.plot(summary_sorted[\"day\"], summary_sorted[\"calories_kcal\"])\n",
    "plt.title(\"Total Calories per Day\")\n",
    "plt.xlabel(\"Day\"); plt.ylabel(\"kcal\"); plt.xticks(rotation=45)\n",
    "plt.tight_layout(); plt.show()\n",
    "\n",
    "summary.to_csv(f\"{base_path}/daily_summary.csv\", index=False)\n",
    "checks.to_csv(f\"{base_path}/daily_checks.csv\", index=False)\n",
    "print(\"Saved daily_summary.csv and daily_checks.csv\")\n"
   ]
  }
 ],
 "metadata": {},
 "nbformat": 4,
 "nbformat_minor": 5
}
